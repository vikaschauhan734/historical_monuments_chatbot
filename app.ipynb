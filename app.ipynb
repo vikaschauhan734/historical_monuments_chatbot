{
 "cells": [
  {
   "cell_type": "code",
   "execution_count": 2,
   "metadata": {},
   "outputs": [],
   "source": [
    "import os\n",
    "import random\n",
    "import smtplib\n",
    "from email.mime.text import MIMEText\n",
    "from dotenv import load_dotenv\n",
    "from langchain_groq import ChatGroq\n",
    "# from langchain_openai import ChatOpenAI\n",
    "from typing import Annotated\n",
    "from typing_extensions import TypedDict\n",
    "from langgraph.graph.message import add_messages\n",
    "from typing import Dict, List\n",
    "from langgraph_supervisor import create_supervisor\n",
    "from langgraph.prebuilt import create_react_agent\n",
    "from langchain_community.tools import DuckDuckGoSearchRun\n",
    "from langchain_core.messages import HumanMessage"
   ]
  },
  {
   "cell_type": "code",
   "execution_count": 3,
   "metadata": {},
   "outputs": [],
   "source": [
    "# Load environment variables\n",
    "load_dotenv()\n",
    "os.environ[\"OPENAI_API_KEY\"] = os.getenv(\"OPENAI_API_KEY\")\n",
    "os.environ[\"SERPAPI_API_KEY\"] = os.getenv(\"SERPAPI_API_KEY\")\n",
    "email_password=os.getenv(\"SMTP_PASSWORD\")\n",
    "email_address=os.getenv(\"EMAIL_ADDRESS\")"
   ]
  },
  {
   "cell_type": "code",
   "execution_count": 4,
   "metadata": {},
   "outputs": [],
   "source": [
    "# Define State\n",
    "class State(TypedDict):\n",
    "    messages: Annotated[List[Dict], add_messages]"
   ]
  },
  {
   "cell_type": "code",
   "execution_count": 5,
   "metadata": {},
   "outputs": [],
   "source": [
    "# OTP Storage\n",
    "otp_store: Dict[str, str] = {}"
   ]
  },
  {
   "cell_type": "code",
   "execution_count": 6,
   "metadata": {},
   "outputs": [],
   "source": [
    "# Define Chat Model\n",
    "llm = ChatGroq(model_name=\"Llama3-8b-8192\", temperature=0)\n",
    "# llm = ChatOpenAI(model=\"gpt-4o-mini\", temperature=0)"
   ]
  },
  {
   "cell_type": "code",
   "execution_count": 7,
   "metadata": {},
   "outputs": [],
   "source": [
    "# Web search\n",
    "def search_duckduckgo(query: str):\n",
    "    \"\"\"Searches DuckDuckGo using LangChain's DuckDuckGoSearchRun tool.\"\"\"\n",
    "    search = DuckDuckGoSearchRun()\n",
    "    return search.invoke(query)"
   ]
  },
  {
   "cell_type": "code",
   "execution_count": 8,
   "metadata": {},
   "outputs": [],
   "source": [
    "# Send OTP\n",
    "def send_otp(to_email):\n",
    "    \"\"\"Sends a one-time password (OTP) to the specified email address.\"\"\"\n",
    "    otp = str(random.randint(100000, 999999))\n",
    "    otp_store[to_email] = otp\n",
    "    msg = MIMEText(f\"Your OTP is: {otp}\")\n",
    "    msg[\"Subject\"] = \"Your OTP for Historical Agent AI\"\n",
    "    msg[\"From\"] = email_address\n",
    "    msg[\"To\"] = to_email\n",
    "\n",
    "    with smtplib.SMTP_SSL(\"smtp.gmail.com\", 465) as server:\n",
    "        server.login(email_address, email_password)\n",
    "        server.send_message(msg)\n",
    "    return f\"I have sent a 6-digit OTP to {to_email}. Please verify.\""
   ]
  },
  {
   "cell_type": "code",
   "execution_count": 9,
   "metadata": {},
   "outputs": [
    {
     "data": {
      "text/plain": [
       "'I have sent a 6-digit OTP to meinvikashoon@gmail.com. Please verify.'"
      ]
     },
     "execution_count": 9,
     "metadata": {},
     "output_type": "execute_result"
    }
   ],
   "source": [
    "send_otp(\"meinvikashoon@gmail.com\")"
   ]
  },
  {
   "cell_type": "code",
   "execution_count": 10,
   "metadata": {},
   "outputs": [],
   "source": [
    "# Verify OTP\n",
    "def verify_otp(user_email, user_otp):\n",
    "    \"\"\"Verifies the OTP with our given otp store dictionary\"\"\"\n",
    "    user_otp = str(user_otp)\n",
    "    if otp_store[user_email] == user_otp:\n",
    "        return \"OTP verified! I'll send more details to your email.\"\n",
    "    return \"Incorrect OTP. Please try again.\""
   ]
  },
  {
   "cell_type": "code",
   "execution_count": 11,
   "metadata": {},
   "outputs": [
    {
     "data": {
      "text/plain": [
       "{'meinvikashoon@gmail.com': '588783'}"
      ]
     },
     "execution_count": 11,
     "metadata": {},
     "output_type": "execute_result"
    }
   ],
   "source": [
    "otp_store"
   ]
  },
  {
   "cell_type": "code",
   "execution_count": 12,
   "metadata": {},
   "outputs": [
    {
     "data": {
      "text/plain": [
       "\"OTP verified! I'll send more details to your email.\""
      ]
     },
     "execution_count": 12,
     "metadata": {},
     "output_type": "execute_result"
    }
   ],
   "source": [
    "verify_otp(\"meinvikashoon@gmail.com\",588783)"
   ]
  },
  {
   "cell_type": "code",
   "execution_count": 13,
   "metadata": {},
   "outputs": [
    {
     "data": {
      "text/plain": [
       "'Incorrect OTP. Please try again.'"
      ]
     },
     "execution_count": 13,
     "metadata": {},
     "output_type": "execute_result"
    }
   ],
   "source": [
    "verify_otp(\"meinvikashoon@gmail.com\",5887831)"
   ]
  },
  {
   "cell_type": "code",
   "execution_count": 14,
   "metadata": {},
   "outputs": [],
   "source": [
    "# Send email\n",
    "def send_email(to_email, content):\n",
    "    \"\"\"Send an email to the specified email address with the provided content.\"\"\"\n",
    "    msg = MIMEText(content)\n",
    "    msg[\"Subject\"] = \"Places suggested by Historical Agent AI\"\n",
    "    msg[\"From\"] = email_address\n",
    "    msg[\"To\"] = to_email\n",
    "\n",
    "    with smtplib.SMTP_SSL(\"smtp.gmail.com\", 465) as server:\n",
    "        server.login(email_address, email_password)\n",
    "        server.send_message(msg)\n",
    "    return \"I have shared you the lot of places to visit around to your email.\""
   ]
  },
  {
   "cell_type": "code",
   "execution_count": 15,
   "metadata": {},
   "outputs": [],
   "source": [
    "# Creating agents\n",
    "historical_agent = create_react_agent(\n",
    "    model = llm,\n",
    "    tools = [search_duckduckgo],\n",
    "    name = \"historical_places_expert\",\n",
    "    prompt = \"You are a historical agent. You has the knowledge of historical monuments across the world with access to web search.\"\n",
    ")\n",
    "\n",
    "otp_sender_agent = create_react_agent(\n",
    "    model = llm,\n",
    "    tools = [send_otp],\n",
    "    name = \"otp_sender\",\n",
    "    prompt = \"You are an otp sender agent. Your task is to send the OTP with the send_otp function.\"\n",
    ")\n",
    "\n",
    "otp_verify_agent = create_react_agent(\n",
    "    model = llm,\n",
    "    tools = [verify_otp],\n",
    "    name = \"otp_verifier\",\n",
    "    prompt = \"You are an otp verifier agent. Your task is to verify the OTP of the email address by using verify_otp function.\"\n",
    ")\n",
    "\n",
    "content_sender_agent = create_react_agent(\n",
    "    model = llm,\n",
    "    tools = [send_email],\n",
    "    name = \"content_sender\",\n",
    "    prompt = \"You are an email sender agent. Your task is to send the email with provided content by using send_email function.\"\n",
    ")"
   ]
  },
  {
   "cell_type": "code",
   "execution_count": 16,
   "metadata": {},
   "outputs": [],
   "source": [
    "# Create supervisor workflow\n",
    "workflow = create_supervisor(\n",
    "    [historical_agent, otp_sender_agent, otp_verify_agent, content_sender_agent],\n",
    "    model = llm,\n",
    "    prompt = (\n",
    "        \"You are a team supervisor managing a historical_places_expert, otp_sender, otp_verifier and content_sender.\"\n",
    "        \"User will ask for Historical places for this, use historical_agent\"\n",
    "        \"Suggest user to provide email address so that you can send the suggested Historical places to email\"\n",
    "        \"If user provide the email address, send OTP by using otp_sender_agent\"\n",
    "        \"Verify the OTP, use otp_verify_agent\"\n",
    "        \"Send the suggested Historical places to email address, use content_sender_agent\"\n",
    "    )\n",
    ")"
   ]
  },
  {
   "cell_type": "code",
   "execution_count": 17,
   "metadata": {},
   "outputs": [],
   "source": [
    "# Compile and run\n",
    "app = workflow.compile()"
   ]
  },
  {
   "cell_type": "code",
   "execution_count": 18,
   "metadata": {},
   "outputs": [],
   "source": [
    "# Initialize State\n",
    "state = State(messages=[])"
   ]
  },
  {
   "cell_type": "code",
   "execution_count": 19,
   "metadata": {},
   "outputs": [
    {
     "data": {
      "image/png": "[encoded data removed]",
      "text/plain": [
       "<IPython.core.display.Image object>"
      ]
     },
     "metadata": {},
     "output_type": "display_data"
    }
   ],
   "source": [
    "from IPython.display import Image,display\n",
    "\n",
    "# To see the graph’s connection visually\n",
    "display(Image(app.get_graph().draw_mermaid_png()))"
   ]
  },
  {
   "cell_type": "code",
   "execution_count": 20,
   "metadata": {},
   "outputs": [
    {
     "data": {
      "text/plain": [
       "{'messages': []}"
      ]
     },
     "execution_count": 20,
     "metadata": {},
     "output_type": "execute_result"
    }
   ],
   "source": [
    "state"
   ]
  },
  {
   "cell_type": "code",
   "execution_count": null,
   "metadata": {},
   "outputs": [],
   "source": [
    "state = {\"messages\": state['messages'] + [HumanMessage(content=\"My email address is meinvikashoon@gmail.com\")]}\n",
    "state = app.invoke(state)"
   ]
  },
  {
   "cell_type": "code",
   "execution_count": null,
   "metadata": {},
   "outputs": [],
   "source": [
    "state"
   ]
  },
  {
   "cell_type": "code",
   "execution_count": null,
   "metadata": {},
   "outputs": [],
   "source": [
    "for m in state[\"messages\"]:\n",
    "    m.pretty_print()"
   ]
  }
 ],
 "metadata": {
  "kernelspec": {
   "display_name": "venv",
   "language": "python",
   "name": "python3"
  },
  "language_info": {
   "codemirror_mode": {
    "name": "ipython",
    "version": 3
   },
   "file_extension": ".py",
   "mimetype": "text/x-python",
   "name": "python",
   "nbconvert_exporter": "python",
   "pygments_lexer": "ipython3",
   "version": "3.13.1"
  }
 },
 "nbformat": 4,
 "nbformat_minor": 2
}
